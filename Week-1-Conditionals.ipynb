{
 "cells": [
  {
   "cell_type": "markdown",
   "id": "fcc87890-d226-4ca2-a68d-39cadd3ccf17",
   "metadata": {},
   "source": [
    "<h1 style=\"font-family: 'Georgia'; font-size: 32px; color: navy;\">\n",
    "Conditionals\n",
    "</h1>\n",
    "\n",
    "\n",
    "<p style=\"font-family: 'Georgia'; font-size: 18px;\">\n",
    " Conditionals allow you, the programmer, to allow your program to make decisions: As if your program has the choice between taking the left-hand road or the right-hand road based upon certain conditions.\n",
    "Conditionals allow your program to make decisions, choosing one path over another depending on specified conditions.\n",
    "Built within Python are a set of <b>“operators”</b> that are used to ask mathematical questions.\n",
    "<code> <  </code> and <code> <  </code> symbols are probably quite familiar to you.\n",
    "<code> >=  </code> denotes <b>“greater than or equal to.”</b>\n",
    "<code> <=  </code>denotes <b>“less than or equal to.”</b>\n",
    "<code> ==  </code>denotes <b>“equals.”</b> Note the double equal sign: a single equal sign assigns a value, whereas two equal signs compare values.\n",
    "<code> !=  </code> denotes <b>“not equal to.”</b>\n",
    "Conditional statements compare a left-hand term to a right-hand term.\n",
    "</p>\n",
    "\n",
    "\n",
    "\n"
   ]
  },
  {
   "cell_type": "markdown",
   "id": "af87c9c3-75f3-4524-98d5-30559947303d",
   "metadata": {},
   "source": [
    "<h1 style=\"font-family: 'Georgia'; font-size: 32px; color: navy;\">\n",
    "If Statement\n",
    "</h1>"
   ]
  },
  {
   "cell_type": "code",
   "execution_count": 3,
   "id": "2949916e-1a94-48c8-a3ec-2ed54c3f42aa",
   "metadata": {},
   "outputs": [
    {
     "name": "stdin",
     "output_type": "stream",
     "text": [
      "Enter x 2\n",
      "Enter y 3\n"
     ]
    },
    {
     "name": "stdout",
     "output_type": "stream",
     "text": [
      "3 is greater than 2\n"
     ]
    }
   ],
   "source": [
    "#compare two numbers\n",
    "x=int(input(\"Enter x\"))\n",
    "y=int(input(\"Enter y\"))\n",
    "\n",
    "if x>y:\n",
    "    print(f'{x} is greater than {y}')\n",
    "\n",
    "if x<y:\n",
    "    print(f'{y} is greater than {x}')\n",
    "\n",
    "if x==y:\n",
    "    print(f'{x} is equal {y}')\n",
    "\n",
    "\n",
    "\"\"\"In this code all the conditions will be checked ,then it will give us the true output .Notice how you are providing a series of if statements.\n",
    "First, the first if statement is evaluated. Then, the second if statement runs its evaluation.\n",
    "Finally, the last if statement runs its evaluation. This flow of decisions is called “control flow.”\"\"\"\n",
    "    "
   ]
  },
  {
   "cell_type": "markdown",
   "id": "86861974-e1c5-4db8-8726-34a765595985",
   "metadata": {},
   "source": [
    "<h1 style=\"font-family: 'Georgia'; font-size: 32px; color: navy;\">\n",
    "If,Elif and Else Statements\n",
    "</h1>\n",
    "\n",
    "\n"
   ]
  },
  {
   "cell_type": "markdown",
   "id": "f69f7e84-2e7c-48a7-b99d-66fb169fbdb0",
   "metadata": {},
   "source": [
    "<p style=\"font-family: 'Georgia'; font-size: 14px;\"> To make our number comparison more efficient, we can use <code> if-elif-else </code> statements. These allow the program to check conditions in sequence and stop checking as soon as one condition is True. This avoids unnecessary evaluations and makes the logic clearer and more efficient.</p>"
   ]
  },
  {
   "cell_type": "code",
   "execution_count": 9,
   "id": "0a6a0cb9-05e0-4fc4-aba1-aa909fbf6dd3",
   "metadata": {},
   "outputs": [
    {
     "name": "stdin",
     "output_type": "stream",
     "text": [
      "Enter x 10\n",
      "Enter y 15\n"
     ]
    },
    {
     "name": "stdout",
     "output_type": "stream",
     "text": [
      "15 is greater than 10\n"
     ]
    }
   ],
   "source": [
    "x=int(input(\"Enter x\"))\n",
    "y=int(input(\"Enter y\"))\n",
    "\n",
    "if x>y:\n",
    "    print(f'{x} is greater than {y}')\n",
    "\n",
    "elif x<y:\n",
    "    print(f'{y} is greater than {x}')\n",
    "\n",
    "else :\n",
    "    print(f'{x} is equal {y}')"
   ]
  },
  {
   "cell_type": "markdown",
   "id": "5c92fb70-8ea0-42d2-88e8-1a7610f3632a",
   "metadata": {},
   "source": [
    "<h1 style=\"font-family: 'Georgia'; font-size: 32px; color: navy;\">\n",
    "or,and within conditional statements\n",
    "</h1>\n",
    "\n",
    "\n"
   ]
  },
  {
   "cell_type": "code",
   "execution_count": 10,
   "id": "85ad462c-9d07-4357-8ae1-367d1f7e3512",
   "metadata": {},
   "outputs": [
    {
     "name": "stdin",
     "output_type": "stream",
     "text": [
      "Score:  90\n"
     ]
    },
    {
     "name": "stdout",
     "output_type": "stream",
     "text": [
      "Grade: A\n"
     ]
    }
   ],
   "source": [
    "\n",
    "\n",
    "score = int(input(\"Score: \"))\n",
    "\n",
    "if score >= 90 and score <= 100:\n",
    "    print(\"Grade: A\")\n",
    "elif score >=80 and score < 90:\n",
    "    print(\"Grade: B\")\n",
    "elif score >=70 and score < 80:\n",
    "    print(\"Grade: C\")\n",
    "elif score >=60 and score < 70:\n",
    "    print(\"Grade: D\")\n",
    "else:\n",
    "    print(\"Grade: F\")\n",
    "\n"
   ]
  },
  {
   "cell_type": "code",
   "execution_count": 12,
   "id": "985fe462-0531-4d1d-ac29-f454d5ad94f1",
   "metadata": {},
   "outputs": [
    {
     "name": "stdin",
     "output_type": "stream",
     "text": [
      "Marks:  78\n"
     ]
    },
    {
     "name": "stdout",
     "output_type": "stream",
     "text": [
      "Grade: A\n"
     ]
    }
   ],
   "source": [
    "#we can improve the code except using or,and  like this\n",
    "\n",
    "marks=int(input(\"Marks: \"))\n",
    "\n",
    "if 80<=marks<=100: \n",
    "    print(\"Grade: A+\")\n",
    "elif 75<=marks<=79: \n",
    "    print(\"Grade: A\")\n",
    "elif 70<=marks<=74: \n",
    "    print(\"Grade: A-\")\n",
    "elif 65<=marks<=69: \n",
    "    print(\"Grade: B+\")\n",
    "elif 60<=marks<=64: \n",
    "    print(\"Grade: B\")\n",
    "elif 60<=marks<=64: \n",
    "    print(\"Grade: B\")\n",
    "elif 60<=marks<=64: \n",
    "    print(\"Grade: B\")\n",
    "elif 55<=marks<=59: \n",
    "    print(\"Grade: B-\")\n",
    "elif 50<=marks<=54: \n",
    "    print(\"Grade: B\")\n",
    "elif 45<=marks<=49: \n",
    "    print(\"Grade: D\")\n",
    "elif 40<=marks<=44: \n",
    "    print(\"Grade: C\")\n",
    "else: \n",
    "    print(\"Grade: F\")\n"
   ]
  },
  {
   "cell_type": "code",
   "execution_count": 13,
   "id": "9bd56247-baa2-41b8-91d1-e99f51bcb678",
   "metadata": {},
   "outputs": [
    {
     "name": "stdin",
     "output_type": "stream",
     "text": [
      "Score:  90\n"
     ]
    },
    {
     "name": "stdout",
     "output_type": "stream",
     "text": [
      "Grade: A\n"
     ]
    }
   ],
   "source": [
    "#still we can further improve the code like this \n",
    "\n",
    "score = int(input(\"Score: \"))\n",
    "\n",
    "if score >= 90:\n",
    "    print(\"Grade: A\")\n",
    "elif score >= 80:\n",
    "    print(\"Grade: B\")\n",
    "elif score >= 70:\n",
    "    print(\"Grade: C\")\n",
    "elif score >= 60:\n",
    "    print(\"Grade: D\")\n",
    "else:\n",
    "    print(\"Grade: F\")\n",
    "\n",
    "\n"
   ]
  },
  {
   "cell_type": "code",
   "execution_count": 15,
   "id": "ed536877-9e43-48f6-a9c1-e440d6429491",
   "metadata": {},
   "outputs": [
    {
     "name": "stdin",
     "output_type": "stream",
     "text": [
      "What's x?  9\n"
     ]
    },
    {
     "name": "stdout",
     "output_type": "stream",
     "text": [
      "Odd\n"
     ]
    }
   ],
   "source": [
    "#let's check even or odd\n",
    "x = int(input(\"What's x? \"))\n",
    "\n",
    "if x % 2 == 0:\n",
    "    print(\"Even\")\n",
    "else:\n",
    "    print(\"Odd\")\n",
    "\n"
   ]
  },
  {
   "cell_type": "markdown",
   "id": "fc88e5a8-b895-498e-8257-a026eefeb9a4",
   "metadata": {},
   "source": [
    "<p style=\"font-family: 'Georgia'; font-size: 25px;\"> Let's create our own function to check even or odd</p>"
   ]
  },
  {
   "cell_type": "code",
   "execution_count": 19,
   "id": "448f3df4-af90-4b8c-ad4e-8a20ceccf94f",
   "metadata": {},
   "outputs": [
    {
     "name": "stdin",
     "output_type": "stream",
     "text": [
      "Ente x:  90\n"
     ]
    },
    {
     "name": "stdout",
     "output_type": "stream",
     "text": [
      "Even\n"
     ]
    }
   ],
   "source": [
    "def main(): \n",
    "    x=int(input(\"Ente x: \"))\n",
    "    if is_even(x): \n",
    "        print(\"Even\") #if is_even() returns True it will execute this line\n",
    "    else: \n",
    "        print(\"Odd\")\n",
    "\n",
    "def is_even(n): \n",
    "    if n%2==0: \n",
    "       return True\n",
    "    else: \n",
    "       return False \n",
    "\n",
    "main()\n",
    "    "
   ]
  },
  {
   "cell_type": "markdown",
   "id": "62c208b8-7a98-47e0-9cca-869692be6c8b",
   "metadata": {},
   "source": [
    "<h1 style=\"font-family: 'Georgia'; font-size: 32px; color: navy;\">\n",
    "Pythonic\n",
    "</h1>\n",
    "\n",
    "\n"
   ]
  },
  {
   "cell_type": "markdown",
   "id": "047bfe89-237c-4c49-a526-2789b083e5b6",
   "metadata": {},
   "source": [
    "<p style=\"font-family: 'Georgia'; font-size: 25px;\">\n",
    "A Pythonic code is one that follows the best practices and idioms of the Python language.\n",
    "    It is:\n",
    "\n",
    "    1.Clean\n",
    "\n",
    "    2.Readable\n",
    "\n",
    "    3.Concise\n",
    "\n",
    "    4.Makes full use of Python features \n",
    "    "
   ]
  },
  {
   "cell_type": "code",
   "execution_count": 22,
   "id": "4402618d-cfcc-4c96-8a34-3ee1a93dc5ce",
   "metadata": {},
   "outputs": [
    {
     "name": "stdin",
     "output_type": "stream",
     "text": [
      "Ente x:  98\n"
     ]
    },
    {
     "name": "stdout",
     "output_type": "stream",
     "text": [
      "Even\n"
     ]
    }
   ],
   "source": [
    "#let's modify the above code in pythonic way \n",
    "\n",
    "def main(): \n",
    "    x=int(input(\"Ente x: \"))\n",
    "    if is_even(x): \n",
    "        print(\"Even\") #if is_even() returns True it will execute this line\n",
    "    else: \n",
    "        print(\"Odd\")\n",
    "\n",
    "def is_even(n): \n",
    "    return True if n%2==0 else False\n",
    "\n",
    "main()"
   ]
  },
  {
   "cell_type": "code",
   "execution_count": 24,
   "id": "6a3301cc-3e9c-4332-be05-1943819d12c2",
   "metadata": {},
   "outputs": [
    {
     "name": "stdin",
     "output_type": "stream",
     "text": [
      "Ente x:  97\n"
     ]
    },
    {
     "name": "stdout",
     "output_type": "stream",
     "text": [
      "Odd\n"
     ]
    }
   ],
   "source": [
    "#more concise and simple \n",
    "def main(): \n",
    "    x=int(input(\"Ente x: \"))\n",
    "    if is_even(x): \n",
    "        print(\"Even\") #if is_even() returns True it will execute this line\n",
    "    else: \n",
    "        print(\"Odd\")\n",
    "\n",
    "def is_even(n): \n",
    "    return n%2==0  #it checks True or False\n",
    "main()"
   ]
  },
  {
   "cell_type": "markdown",
   "id": "53b7ea6f-b328-4d3e-8099-c2070171e475",
   "metadata": {},
   "source": [
    "<h1 style=\"font-family: 'Georgia'; font-size: 32px; color: navy;\">\n",
    "Match\n",
    "</h1>\n",
    "\n",
    "\n",
    "<p style=\"font-family: 'Georgia'; font-size: 25px;\"> Similar to <code> if, elif, and else</code> statements, <code>match</code> statements can be used to conditionally run code that matches certain values.</p>"
   ]
  },
  {
   "cell_type": "code",
   "execution_count": 25,
   "id": "69422eed-f4b1-4e68-a4f0-0ac03983da26",
   "metadata": {},
   "outputs": [
    {
     "name": "stdin",
     "output_type": "stream",
     "text": [
      "What's your name?  sakib\n"
     ]
    },
    {
     "name": "stdout",
     "output_type": "stream",
     "text": [
      "Who?\n"
     ]
    }
   ],
   "source": [
    "  name = input(\"What's your name? \")\n",
    "\n",
    "  if name == \"Harry\":\n",
    "      print(\"Gryffindor\")\n",
    "  elif name == \"Hermione\":\n",
    "      print(\"Gryffindor\")\n",
    "  elif name == \"Ron\": \n",
    "      print(\"Gryffindor\")\n",
    "  elif name == \"Draco\":\n",
    "      print(\"Slytherin\")\n",
    "  else:\n",
    "      print(\"Who?\")"
   ]
  },
  {
   "cell_type": "code",
   "execution_count": 26,
   "id": "2633f193-f243-44f9-abc7-328bfce2ec14",
   "metadata": {},
   "outputs": [
    {
     "name": "stdin",
     "output_type": "stream",
     "text": [
      "What's your name?  Harry\n"
     ]
    },
    {
     "name": "stdout",
     "output_type": "stream",
     "text": [
      "Gryffindor\n"
     ]
    }
   ],
   "source": [
    "  name = input(\"What's your name? \")\n",
    "\n",
    "  if name == \"Harry\" or name == \"Hermione\" or name == \"Ron\": \n",
    "      print(\"Gryffindor\")\n",
    "  elif name == \"Draco\":\n",
    "      print(\"Slytherin\")\n",
    "  else:\n",
    "      print(\"Who?\")"
   ]
  },
  {
   "cell_type": "code",
   "execution_count": 30,
   "id": "edd75c04-60dd-49f6-82a8-e425bb04b449",
   "metadata": {},
   "outputs": [
    {
     "name": "stdin",
     "output_type": "stream",
     "text": [
      "What's your name?  You\n"
     ]
    },
    {
     "name": "stdout",
     "output_type": "stream",
     "text": [
      "Saaad! Nothinnng Yaaar\n"
     ]
    }
   ],
   "source": [
    "#we can now do the same thing using match function \n",
    "\n",
    "name = input(\"What's your name? \")\n",
    "\n",
    "match name: \n",
    "   case \"Harry\": \n",
    "       print(\"Whooray\")\n",
    "   case \"Dinosour\": \n",
    "       print(\"Wooow!\")\n",
    "   case \"Python\": \n",
    "       print(\"Orrreee!\")\n",
    "   case \"Catfish\": \n",
    "       print(\"Interestiiiing!\")\n",
    "   case _:                       #notice this underscore after case it works like else statement\n",
    "       print(\"Saaad! Nothinnng Yaaar\")"
   ]
  },
  {
   "cell_type": "code",
   "execution_count": null,
   "id": "6fdd82d6-d7b9-49de-9e2f-3dc9b5c2b160",
   "metadata": {},
   "outputs": [],
   "source": []
  }
 ],
 "metadata": {
  "kernelspec": {
   "display_name": "Python 3.10 (tfenv)",
   "language": "python",
   "name": "tfenv"
  },
  "language_info": {
   "codemirror_mode": {
    "name": "ipython",
    "version": 3
   },
   "file_extension": ".py",
   "mimetype": "text/x-python",
   "name": "python",
   "nbconvert_exporter": "python",
   "pygments_lexer": "ipython3",
   "version": "3.10.0"
  }
 },
 "nbformat": 4,
 "nbformat_minor": 5
}
