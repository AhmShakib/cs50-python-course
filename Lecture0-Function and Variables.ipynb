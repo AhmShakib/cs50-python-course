{
 "cells": [
  {
   "cell_type": "markdown",
   "id": "4c05bed5-9088-45e1-9088-cfe1a7908c01",
   "metadata": {},
   "source": [
    "<h1 style=\"font-family: 'Georgia'; font-size: 32px; color: navy;\">\n",
    "Creating Code with Python\n",
    "</h1>\n",
    "\n",
    "\n",
    "<p style=\"font-family: 'Georgia'; font-size: 18px;\">\n",
    " VS Code is a text editor. In addition to editing text, you can visually browse files and run text-based commands at a terminal.\n",
    "    In the terminal, you can execute code hello.py to start coding.\n",
    "    In the text editor above, you can type print(\"hello, world\"). This is a famous canonical program that nearly all coders write during their learning process.\n",
    "    In the terminal window, you can execute commands. To run this program, you are going to need to move your cursor to the bottom of the screen, clicking in the terminal window. You can now type a second command in the terminal window. Next to the dollar sign, type python hello.py and press the enter key on your keyboard.\n",
    "    Recall that computers really only understand zeros and ones. Therefore, when you run python hello.py, Python will interpret the text that you created in hello.py and translate it into the zeros and ones that the computer can understand.\n",
    "    The result of running the python hello.py program is hello, world.\n",
    "    Congrats! You just created your first program.\n",
    "</p>\n",
    "\n",
    "\n",
    "\n"
   ]
  },
  {
   "cell_type": "markdown",
   "id": "6b035354-b6eb-460a-9fbc-a6c4c2cf0531",
   "metadata": {},
   "source": [
    "<h1 style=\"font-family: 'Georgia'; font-size: 32px; color: navy;\">\n",
    "\n",
    "Function\n",
    "</h1>\n",
    "\n",
    "<p style=\"font-family: 'Georgia'; font-size: 18px;\">\n",
    "■ Functions are verbs or actions that the computer or computer language will already know how to perform.\n",
    "■ In your hello.py program, the print function knows how to print to the terminal window.\n",
    "■ The print function takes arguments. In this case, \"hello, world\" are the arguments that the print function takes.\n",
    "</p>\n",
    "\n"
   ]
  },
  {
   "cell_type": "markdown",
   "id": "ba1e7bf7-0d42-44c9-9606-0252dd215ee7",
   "metadata": {},
   "source": [
    "\n"
   ]
  },
  {
   "cell_type": "markdown",
   "id": "03a9614e-4fff-48bf-9cdc-2567ea17aac8",
   "metadata": {},
   "source": [
    "<h1 style=\"font-family: 'Georgia'; font-size: 32px; color: navy;\">\n",
    "First Python Programme\n",
    "</h1>\n"
   ]
  },
  {
   "cell_type": "code",
   "execution_count": 7,
   "id": "0d1cd748-dd3b-4227-93f2-1d7c852d3526",
   "metadata": {},
   "outputs": [
    {
     "name": "stdin",
     "output_type": "stream",
     "text": [
      "What is your name David\n"
     ]
    },
    {
     "name": "stdout",
     "output_type": "stream",
     "text": [
      "Hello, David\n"
     ]
    }
   ],
   "source": [
    "#ask user for his name\n",
    "name=input(\"What is your name\")\n",
    "\n",
    "#print hello and inputted name \n",
    "print(\"Hello,\",name)"
   ]
  },
  {
   "cell_type": "markdown",
   "id": "aed92319-35a6-4164-a68d-8369577215ec",
   "metadata": {},
   "source": [
    "\n",
    "<p style=\"font-family: 'Georgia'; font-size: 18px;\">\n",
    "Looking at this documentation, we’ll learn that the print function automatically includes the argument <b>end=\"/n\" </b> . This <b>\\n </b> indicates that the print function will automatically create a line break when run. The function takes an argument called <b>end</b>, and the default is to create a new line.\n",
    "However, we can technically provide an argument for <b>end</b> ourselves such that a new line is not created!\n",
    "</p>\n"
   ]
  },
  {
   "cell_type": "code",
   "execution_count": 10,
   "id": "32378f9f-952f-46f7-b500-aedb0e18f714",
   "metadata": {},
   "outputs": [
    {
     "name": "stdin",
     "output_type": "stream",
     "text": [
      "What is your name Sakib\n"
     ]
    },
    {
     "name": "stdout",
     "output_type": "stream",
     "text": [
      "Hello, Sakib\n"
     ]
    }
   ],
   "source": [
    "#ask user for his name\n",
    "name=input(\"What is your name\")\n",
    "\n",
    "#print hello and inputted name in a single line\n",
    "print(\"Hello,\",end=\" \")\n",
    "print(name)"
   ]
  },
  {
   "cell_type": "markdown",
   "id": "bfed7f91-256c-4f47-b5b2-78dd42bb9fa7",
   "metadata": {},
   "source": [
    "\n",
    "<p style=\"font-family: 'Georgia'; font-size: 28px;\">\n",
    "Working with String\n",
    "</p>\n"
   ]
  },
  {
   "cell_type": "code",
   "execution_count": 13,
   "id": "1c8e5fdb-30b8-4b28-86b5-42f7a23405fc",
   "metadata": {},
   "outputs": [
    {
     "name": "stdin",
     "output_type": "stream",
     "text": [
      "What is your name Sakib\n"
     ]
    },
    {
     "name": "stdout",
     "output_type": "stream",
     "text": [
      "Hello Sakib\n"
     ]
    }
   ],
   "source": [
    "#ask user for his name\n",
    "name=input(\"What is your name\")\n",
    "\n",
    "#print hello and inputted name in a single line\n",
    "print(f\"Hello {name}\")"
   ]
  },
  {
   "cell_type": "code",
   "execution_count": 16,
   "id": "c4cfbd65-b7a8-4db5-bc0a-0822a5c90d6c",
   "metadata": {},
   "outputs": [
    {
     "name": "stdin",
     "output_type": "stream",
     "text": [
      "What's your name?     SAKIB\n"
     ]
    },
    {
     "name": "stdout",
     "output_type": "stream",
     "text": [
      "hello, SAKIB\n"
     ]
    }
   ],
   "source": [
    "# Ask the user for their name\n",
    "name = input(\"What's your name? \")\n",
    "\n",
    "# Remove whitespace from the str\n",
    "name = name.strip()\n",
    "\n",
    "# Print the output\n",
    "print(f\"hello, {name}\")\n",
    "\n"
   ]
  },
  {
   "cell_type": "code",
   "execution_count": 17,
   "id": "68095922-855c-4955-bb8a-2a6951003ff1",
   "metadata": {},
   "outputs": [
    {
     "name": "stdin",
     "output_type": "stream",
     "text": [
      "What is your name   sakib\n"
     ]
    },
    {
     "name": "stdout",
     "output_type": "stream",
     "text": [
      "My name is Sakib\n"
     ]
    }
   ],
   "source": [
    "name=input(\"What is your name\")\n",
    "\n",
    "#remove any whitespace and make first letter of the inputted string capital \n",
    "name=name.strip().title()\n",
    "\n",
    "print(f\"My name is {name}\")"
   ]
  },
  {
   "cell_type": "code",
   "execution_count": 18,
   "id": "6ab0d0b1-d9cf-46f4-b9b3-7d5140ed887e",
   "metadata": {},
   "outputs": [
    {
     "name": "stdin",
     "output_type": "stream",
     "text": [
      "What is your name   nelson\n"
     ]
    },
    {
     "name": "stdout",
     "output_type": "stream",
     "text": [
      "Hello Nelson\n"
     ]
    }
   ],
   "source": [
    "#we can do the same job using the shortway \n",
    "name=input(\"What is your name\").strip().title()\n",
    "print(f\"Hello {name}\")"
   ]
  },
  {
   "cell_type": "markdown",
   "id": "77e5e2eb-13ac-428e-b174-574c013391c0",
   "metadata": {},
   "source": [
    "<h1 style=\"font-family: 'Georgia'; font-size: 32px; color: navy;\">\n",
    "Integer or int\n",
    "</h1>\n"
   ]
  },
  {
   "cell_type": "code",
   "execution_count": 19,
   "id": "c21390ac-e5a5-498a-8ff1-a1ecb5f693cd",
   "metadata": {},
   "outputs": [
    {
     "name": "stdin",
     "output_type": "stream",
     "text": [
      "Enter the first number 12\n",
      "Enter the second number 13\n"
     ]
    },
    {
     "name": "stdout",
     "output_type": "stream",
     "text": [
      "The sum of 12 and 13 is 25\n"
     ]
    }
   ],
   "source": [
    "#let add two number taking input from user \n",
    "\n",
    "a=input(\"Enter the first number\")\n",
    "b=input(\"Enter the second number\")\n",
    "sum= int(a)+int(b) \n",
    "print(f\"The sum of {a} and {b} is {sum}\")"
   ]
  },
  {
   "cell_type": "code",
   "execution_count": 20,
   "id": "e7799761-fe53-4ffe-baeb-d749cb469255",
   "metadata": {},
   "outputs": [
    {
     "name": "stdin",
     "output_type": "stream",
     "text": [
      "Enter the first number 12\n",
      "Enter the second number 13\n"
     ]
    },
    {
     "name": "stdout",
     "output_type": "stream",
     "text": [
      "The sum of 12 and 13 is 25\n"
     ]
    }
   ],
   "source": [
    "#we can improve the code even better \n",
    "a=int(input(\"Enter the first number\"))\n",
    "b=int(input(\"Enter the second number\"))\n",
    "\n",
    "sum=a+b\n",
    "print(f\"The sum of {a} and {b} is {sum}\")"
   ]
  },
  {
   "cell_type": "markdown",
   "id": "fdf0f958-3560-4928-8012-bbd9f1222ded",
   "metadata": {},
   "source": [
    "\n",
    "\n",
    "\n",
    "<p style=\"font-family: 'Georgia'; font-size: 24px;\">\n",
    "let use float data type and round function!\n",
    "</p>\n"
   ]
  },
  {
   "cell_type": "code",
   "execution_count": 27,
   "id": "539c1dca-025d-426e-a308-b2be4472f113",
   "metadata": {},
   "outputs": [
    {
     "name": "stdin",
     "output_type": "stream",
     "text": [
      "Enter a number 122.009\n",
      "Enter another number 1390.004\n"
     ]
    },
    {
     "name": "stdout",
     "output_type": "stream",
     "text": [
      "Multiplication:169592.99803599998 \n",
      "Rounded:169593\n",
      "Proper format:169,593\n"
     ]
    }
   ],
   "source": [
    "a=float(input(\"Enter a number\"))\n",
    "b=float(input(\"Enter another number\"))\n",
    "multiplication=a*b \n",
    "#will round it to nearest integer \n",
    "rounded=round(multiplication)\n",
    "print(f\"Multiplication:{multiplication} \\nRounded:{rounded}\")\n",
    "\n",
    "#we can use comma after every thousand (which generally represent proper numbers format )\n",
    "print(f\"Proper format:{rounded:,}\")"
   ]
  },
  {
   "cell_type": "markdown",
   "id": "e6c5f864-67ae-4c43-a5a9-a7cd0bef40bf",
   "metadata": {},
   "source": [
    "\n",
    "\n",
    "\n",
    "<p style=\"font-family: 'Georgia'; font-size: 24px;\">\n",
    "More on Float\n",
    "</p>\n"
   ]
  },
  {
   "cell_type": "code",
   "execution_count": 31,
   "id": "980d6cf2-9ea6-4fce-927f-3387729fa3b6",
   "metadata": {},
   "outputs": [
    {
     "name": "stdin",
     "output_type": "stream",
     "text": [
      "What's a 21.099\n",
      "What's b 12.01\n"
     ]
    },
    {
     "name": "stdout",
     "output_type": "stream",
     "text": [
      "Division:1.7567860116569527 \n",
      "Rounded:1.76\n",
      "Rounded:1.76\n"
     ]
    }
   ],
   "source": [
    "a=float(input(\"What's a\"))\n",
    "b=float(input(\"What's b\"))\n",
    "division=a/b \n",
    "\n",
    "#we want to round the division until next two decimals ,so use a parameter in round function ,2\n",
    "rounded=round(division,2)\n",
    "\n",
    "print(f\"Division:{division} \\nRounded:{rounded}\")\n",
    "\n",
    "#We could also use an f-string to format the output as follows\n",
    "\n",
    "print(f\"Rounded:{division:.2f}\")"
   ]
  },
  {
   "cell_type": "code",
   "execution_count": null,
   "id": "f7c0a0d4-014b-438f-80dc-0de656316f21",
   "metadata": {},
   "outputs": [],
   "source": []
  },
  {
   "cell_type": "markdown",
   "id": "1a8853b2-aad7-44a4-9570-6dbadbdbf988",
   "metadata": {},
   "source": [
    "<h1 style=\"font-family: 'Georgia'; font-size: 32px; color: navy;\">\n",
    "Let's Define Our Own Function\n",
    "</h1>\n"
   ]
  },
  {
   "cell_type": "code",
   "execution_count": 36,
   "id": "ccb4db4f-9db8-4c06-a779-0066170b7ffa",
   "metadata": {},
   "outputs": [
    {
     "name": "stdin",
     "output_type": "stream",
     "text": [
      "What is his name sakib\n"
     ]
    },
    {
     "name": "stdout",
     "output_type": "stream",
     "text": [
      "Good Morning Sakib\n"
     ]
    }
   ],
   "source": [
    "#let define a wishing function using an argument/parameter 'to' in function\n",
    "def wish(to): \n",
    "    print(\"Good Morning\",to)\n",
    "#ask for name\n",
    "name=input('What is his name').strip().title()\n",
    "#call the function using the name \n",
    "wish(name)"
   ]
  },
  {
   "cell_type": "code",
   "execution_count": 37,
   "id": "96e6ff15-81dd-4cc6-84b6-75a72bba08c4",
   "metadata": {},
   "outputs": [
    {
     "name": "stdin",
     "output_type": "stream",
     "text": [
      "What's your name?  Sakib\n"
     ]
    },
    {
     "name": "stdout",
     "output_type": "stream",
     "text": [
      "hello, Sakib\n",
      "hello, world\n"
     ]
    }
   ],
   "source": [
    "#We can change our code to add a default value to hello\n",
    "\n",
    "# Create our own function\n",
    "def hello(to=\"world\"):\n",
    "    print(\"hello,\", to)\n",
    "\n",
    "\n",
    "# Output using our own function\n",
    "name = input(\"What's your name? \")\n",
    "hello(name)\n",
    "\n",
    "# Output without passing the expected arguments it will print default value \n",
    "hello()\n",
    "\n"
   ]
  },
  {
   "cell_type": "code",
   "execution_count": 39,
   "id": "76bfc6c5-61b4-4df1-90b3-999c00a26297",
   "metadata": {},
   "outputs": [
    {
     "name": "stdin",
     "output_type": "stream",
     "text": [
      "Your name? sakib\n"
     ]
    },
    {
     "name": "stdout",
     "output_type": "stream",
     "text": [
      "Good Morning sakib\n"
     ]
    }
   ],
   "source": [
    "\"\"\"\n",
    "We don’t have to have our function at the start of our program.\n",
    "We can move it down, \n",
    "but we need to tell the interpreter that we have a main function and a separate hello function.\"\"\"\n",
    "def ourmain():\n",
    "    name=input(\"Your name?\")\n",
    "    wishing(name)\n",
    "\n",
    "def wishing(to): \n",
    "    print(\"Good Morning\",to)\n",
    "\n",
    "ourmain()\n",
    "\n"
   ]
  },
  {
   "cell_type": "markdown",
   "id": "be69039e-7451-45e5-8b82-7886e7665ce6",
   "metadata": {},
   "source": [
    "<h1 style=\"font-family: 'Georgia'; font-size: 30px; color: pink;\">\n",
    "Returning Value from  Function\n",
    "</h1>\n"
   ]
  },
  {
   "cell_type": "markdown",
   "id": "7abc1d10-50fc-4f53-b2c4-62211e077064",
   "metadata": {},
   "source": [
    "\n",
    "<p style=\"font-family: 'Georgia'; font-size: 18px;\">\n",
    "You can imagine many scenarios where you don’t just want a function to perform an action but also to return a value back to the main function. \n",
    "For example, rather than simply printing the calculation of (x + y),\n",
    "you may want a function to return the value of this calculation back to another part of your program.\n",
    "This “passing back” of a value we call a return value.\n",
    "</p>\n"
   ]
  },
  {
   "cell_type": "code",
   "execution_count": 45,
   "id": "6c0f5fc6-211d-42a8-9b78-eff895b842c0",
   "metadata": {},
   "outputs": [
    {
     "name": "stdin",
     "output_type": "stream",
     "text": [
      "Enter two numbers 12 13\n"
     ]
    },
    {
     "name": "stdout",
     "output_type": "stream",
     "text": [
      "Sum of 12 and 13 is 25\n"
     ]
    }
   ],
   "source": [
    "def main(): \n",
    "    #map() applies a function to each item in a list and gives back the changed items\n",
    "    #split() breaks a string into parts using spaces (or a given separator) and returns a list.\n",
    "    a,b=map(int,input(\"Enter two numbers\").split()) \n",
    "    print(f\"Sum of {a} and {b} is {sums(a,b)}\")\n",
    "def sums(a,b): \n",
    "    #we are returning this value to a different function except printing\n",
    "    return a+b \n",
    "main()    \n",
    "    "
   ]
  },
  {
   "cell_type": "code",
   "execution_count": null,
   "id": "0d866712-3c21-4a6a-88e8-9ae1e46b09a0",
   "metadata": {},
   "outputs": [],
   "source": []
  }
 ],
 "metadata": {
  "kernelspec": {
   "display_name": "Python 3 (ipykernel)",
   "language": "python",
   "name": "python3"
  },
  "language_info": {
   "codemirror_mode": {
    "name": "ipython",
    "version": 3
   },
   "file_extension": ".py",
   "mimetype": "text/x-python",
   "name": "python",
   "nbconvert_exporter": "python",
   "pygments_lexer": "ipython3",
   "version": "3.12.3"
  }
 },
 "nbformat": 4,
 "nbformat_minor": 5
}
